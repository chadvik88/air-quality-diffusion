{
 "cells": [
  {
   "cell_type": "code",
   "execution_count": 24,
   "id": "70501036",
   "metadata": {},
   "outputs": [
    {
     "name": "stdout",
     "output_type": "stream",
     "text": [
      "Phase 1 complete: Saved to '../data/feature_engineered_data.csv'\n"
     ]
    }
   ],
   "source": [
    "import pandas as pd\n",
    "import numpy as np\n",
    "\n",
    "# Load the processed dataset\n",
    "df = pd.read_csv('../data/processed_city_data.csv', parse_dates=['Date'])\n",
    "df.set_index('Date', inplace=True)\n",
    "df.sort_index(inplace=True)\n",
    "\n",
    "# 1. Datetime-based features\n",
    "df['hour'] = df.index.hour\n",
    "df['day'] = df.index.day\n",
    "df['month'] = df.index.month\n",
    "df['weekday'] = df.index.weekday\n",
    "df['year'] = df.index.year\n",
    "\n",
    "# 2. Season Encoding\n",
    "def get_season(month):\n",
    "    if month in [12, 1, 2]: return 'winter'\n",
    "    elif month in [3, 4, 5]: return 'spring'\n",
    "    elif month in [6, 7, 8]: return 'summer'\n",
    "    else: return 'fall'\n",
    "\n",
    "df['season'] = df['month'].apply(get_season)\n",
    "df = pd.get_dummies(df, columns=['season'], drop_first=True)\n",
    "\n",
    "# 3. Rolling statistics\n",
    "for col in ['pm2_5', 'pm10', 'no2', 'so2', 'co', 'o3']:\n",
    "    df[f'{col}_roll_mean_7'] = df[col].rolling(window=7, min_periods=1).mean()\n",
    "    df[f'{col}_roll_std_7'] = df[col].rolling(window=7, min_periods=1).std()\n",
    "\n",
    "# 4. Lag features\n",
    "for col in ['pm2_5', 'pm10', 'no2', 'so2', 'co', 'o3']:\n",
    "    df[f'{col}_lag1'] = df[col].shift(1)\n",
    "    df[f'{col}_lag2'] = df[col].shift(2)\n",
    "    df[f'{col}_lag3'] = df[col].shift(3)\n",
    "\n",
    "# 5. AQI bucket encoding (Ordinal)\n",
    "aqi_mapping = {\n",
    "    'Good': 0,\n",
    "    'Satisfactory': 1,\n",
    "    'Moderate': 2,\n",
    "    'Poor': 3,\n",
    "    'Very Poor': 4,\n",
    "    'Severe': 5\n",
    "}\n",
    "df['aqi_bucket_encoded'] = df['aqi_bucket'].map(aqi_mapping)\n",
    "\n",
    "# Drop rows with NaNs from rolling and shifting\n",
    "df.dropna(inplace=True)\n",
    "\n",
    "# Save to file\n",
    "df.to_csv('../data/feature_engineered_data.csv')\n",
    "print(\"Phase 1 complete: Saved to '../data/feature_engineered_data.csv'\")\n"
   ]
  }
 ],
 "metadata": {
  "kernelspec": {
   "display_name": "Python 3",
   "language": "python",
   "name": "python3"
  },
  "language_info": {
   "codemirror_mode": {
    "name": "ipython",
    "version": 3
   },
   "file_extension": ".py",
   "mimetype": "text/x-python",
   "name": "python",
   "nbconvert_exporter": "python",
   "pygments_lexer": "ipython3",
   "version": "3.13.0"
  }
 },
 "nbformat": 4,
 "nbformat_minor": 5
}
